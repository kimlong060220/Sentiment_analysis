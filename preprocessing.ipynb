{
 "cells": [
  {
   "cell_type": "code",
   "execution_count": 46,
   "id": "b41add6c",
   "metadata": {},
   "outputs": [],
   "source": [
    "import pandas as pd\n",
    "import numpy as np\n",
    "import matplotlib.pyplot as plt\n",
    "import re\n",
    "from tqdm import tqdm\n",
    "tqdm.pandas()"
   ]
  },
  {
   "cell_type": "code",
   "execution_count": 27,
   "id": "a986038e",
   "metadata": {},
   "outputs": [],
   "source": [
    "data_df = pd.read_csv(\"./data/raw.csv\")"
   ]
  },
  {
   "cell_type": "code",
   "execution_count": 28,
   "id": "2ad7dfaa",
   "metadata": {},
   "outputs": [
    {
     "data": {
      "text/html": [
       "<div>\n",
       "<style scoped>\n",
       "    .dataframe tbody tr th:only-of-type {\n",
       "        vertical-align: middle;\n",
       "    }\n",
       "\n",
       "    .dataframe tbody tr th {\n",
       "        vertical-align: top;\n",
       "    }\n",
       "\n",
       "    .dataframe thead th {\n",
       "        text-align: right;\n",
       "    }\n",
       "</style>\n",
       "<table border=\"1\" class=\"dataframe\">\n",
       "  <thead>\n",
       "    <tr style=\"text-align: right;\">\n",
       "      <th></th>\n",
       "      <th>Unnamed: 0</th>\n",
       "      <th>comment</th>\n",
       "      <th>Sentiment</th>\n",
       "    </tr>\n",
       "  </thead>\n",
       "  <tbody>\n",
       "    <tr>\n",
       "      <th>0</th>\n",
       "      <td>0</td>\n",
       "      <td>áo vải cũng được, nhưng hình in nó chóc nhiều ...</td>\n",
       "      <td>NEG</td>\n",
       "    </tr>\n",
       "    <tr>\n",
       "      <th>1</th>\n",
       "      <td>1</td>\n",
       "      <td>Vải thô cứng xấu không dám mua lần 2 luôn á tr...</td>\n",
       "      <td>NEG</td>\n",
       "    </tr>\n",
       "    <tr>\n",
       "      <th>2</th>\n",
       "      <td>2</td>\n",
       "      <td>Đánh giá này mang tính chất để nhận xu  fghjhh...</td>\n",
       "      <td>NEG</td>\n",
       "    </tr>\n",
       "    <tr>\n",
       "      <th>3</th>\n",
       "      <td>3</td>\n",
       "      <td>Size L to quá mng mua nên coi size kĩ \\nÁo mỏn...</td>\n",
       "      <td>NEG</td>\n",
       "    </tr>\n",
       "    <tr>\n",
       "      <th>4</th>\n",
       "      <td>4</td>\n",
       "      <td>Áo khá mỏng mũ 2 lớp nhưng cũng mỏng huhu:(( k...</td>\n",
       "      <td>NEG</td>\n",
       "    </tr>\n",
       "    <tr>\n",
       "      <th>...</th>\n",
       "      <td>...</td>\n",
       "      <td>...</td>\n",
       "      <td>...</td>\n",
       "    </tr>\n",
       "    <tr>\n",
       "      <th>29876</th>\n",
       "      <td>24939</td>\n",
       "      <td>Công dụng: lÀm mềm tóc\\nThơm , mượt tóc lắm, d...</td>\n",
       "      <td>POS</td>\n",
       "    </tr>\n",
       "    <tr>\n",
       "      <th>29877</th>\n",
       "      <td>25242</td>\n",
       "      <td>Mua bộ 3 kem đánh răng được tặng túi xinh lắm\\...</td>\n",
       "      <td>POS</td>\n",
       "    </tr>\n",
       "    <tr>\n",
       "      <th>29878</th>\n",
       "      <td>25243</td>\n",
       "      <td>Thời gian giao hàng nhanh, đóng gói sản phẩm r...</td>\n",
       "      <td>POS</td>\n",
       "    </tr>\n",
       "    <tr>\n",
       "      <th>29879</th>\n",
       "      <td>25270</td>\n",
       "      <td>Chưa xịt nên chưa biết công dụng hy vọng có cô...</td>\n",
       "      <td>POS</td>\n",
       "    </tr>\n",
       "    <tr>\n",
       "      <th>29880</th>\n",
       "      <td>25471</td>\n",
       "      <td>đúng sản phẩm giao hành nhanh sẽ ủng hộ shop s...</td>\n",
       "      <td>POS</td>\n",
       "    </tr>\n",
       "  </tbody>\n",
       "</table>\n",
       "<p>29881 rows × 3 columns</p>\n",
       "</div>"
      ],
      "text/plain": [
       "       Unnamed: 0                                            comment Sentiment\n",
       "0               0  áo vải cũng được, nhưng hình in nó chóc nhiều ...       NEG\n",
       "1               1  Vải thô cứng xấu không dám mua lần 2 luôn á tr...       NEG\n",
       "2               2  Đánh giá này mang tính chất để nhận xu  fghjhh...       NEG\n",
       "3               3  Size L to quá mng mua nên coi size kĩ \\nÁo mỏn...       NEG\n",
       "4               4  Áo khá mỏng mũ 2 lớp nhưng cũng mỏng huhu:(( k...       NEG\n",
       "...           ...                                                ...       ...\n",
       "29876       24939  Công dụng: lÀm mềm tóc\\nThơm , mượt tóc lắm, d...       POS\n",
       "29877       25242  Mua bộ 3 kem đánh răng được tặng túi xinh lắm\\...       POS\n",
       "29878       25243  Thời gian giao hàng nhanh, đóng gói sản phẩm r...       POS\n",
       "29879       25270  Chưa xịt nên chưa biết công dụng hy vọng có cô...       POS\n",
       "29880       25471  đúng sản phẩm giao hành nhanh sẽ ủng hộ shop s...       POS\n",
       "\n",
       "[29881 rows x 3 columns]"
      ]
     },
     "execution_count": 28,
     "metadata": {},
     "output_type": "execute_result"
    }
   ],
   "source": [
    "data_df"
   ]
  },
  {
   "cell_type": "code",
   "execution_count": 29,
   "id": "d4ec2330",
   "metadata": {},
   "outputs": [],
   "source": [
    "def convert(x):\n",
    "    if x == \"NEG\" or x == \"NEU\":\n",
    "        return \"0\"\n",
    "    else:\n",
    "        return \"1\"\n",
    "data_df[\"label\"] = data_df[\"Sentiment\"].apply(lambda x: convert(x))"
   ]
  },
  {
   "cell_type": "code",
   "execution_count": 30,
   "id": "a706ca0f",
   "metadata": {},
   "outputs": [],
   "source": [
    "y = data_df['label'].values.tolist()"
   ]
  },
  {
   "cell_type": "code",
   "execution_count": 32,
   "id": "7a59f554",
   "metadata": {},
   "outputs": [
    {
     "data": {
      "text/plain": [
       "([<matplotlib.patches.Wedge at 0x20f6438e788>,\n",
       "  <matplotlib.patches.Wedge at 0x20f676b4f48>],\n",
       " [Text(-0.3487497294332044, 1.043251468352797, 'Tích cực'),\n",
       "  Text(0.3487498271094549, -1.043251435700486, 'Tiêu cực')])"
      ]
     },
     "execution_count": 32,
     "metadata": {},
     "output_type": "execute_result"
    },
    {
     "data": {
      "image/png": "[encoded data removed]",
      "text/plain": [
       "<Figure size 432x288 with 1 Axes>"
      ]
     },
     "metadata": {},
     "output_type": "display_data"
    }
   ],
   "source": [
    "plt.pie(y, labels = [\"Tích cực\", \"Tiêu cực\"])"
   ]
  },
  {
   "cell_type": "code",
   "execution_count": 35,
   "id": "39ebecad",
   "metadata": {},
   "outputs": [],
   "source": [
    "dictionary = {}\n",
    "with open(\"data/teencode.txt\" , encoding = \"utf8\") as f:\n",
    "    for line in f:\n",
    "        (key, val) = line.split(\"\t\",1)\n",
    "        dictionary[key.strip()] = val.strip()"
   ]
  },
  {
   "cell_type": "code",
   "execution_count": 36,
   "id": "b5348ae8",
   "metadata": {},
   "outputs": [],
   "source": [
    "import re\n",
    "def remove_emojis(data):\n",
    "    emoj = re.compile(\"[\"\n",
    "        u\"\\U0001F600-\\U0001F64F\"  # emoticons\n",
    "        u\"\\U0001F300-\\U0001F5FF\"  # symbols & pictographs\n",
    "        u\"\\U0001F680-\\U0001F6FF\"  # transport & map symbols\n",
    "        u\"\\U0001F1E0-\\U0001F1FF\"  # flags (iOS)\n",
    "        u\"\\U00002500-\\U00002BEF\"  # chinese char\n",
    "        u\"\\U00002702-\\U000027B0\"\n",
    "        u\"\\U00002702-\\U000027B0\"\n",
    "        u\"\\U000024C2-\\U0001F251\"\n",
    "        u\"\\U0001f926-\\U0001f937\"\n",
    "        u\"\\U00010000-\\U0010ffff\"\n",
    "        u\"\\u2640-\\u2642\" \n",
    "        u\"\\u2600-\\u2B55\"\n",
    "        u\"\\u200d\"\n",
    "        u\"\\u23cf\"\n",
    "        u\"\\u23e9\"\n",
    "        u\"\\u231a\"\n",
    "        u\"\\ufe0f\"  # dingbats\n",
    "        u\"\\u3030\"\n",
    "                      \"]+\", re.UNICODE)\n",
    "    return re.sub(emoj, '', data)"
   ]
  },
  {
   "cell_type": "code",
   "execution_count": 37,
   "id": "7bd19780",
   "metadata": {},
   "outputs": [],
   "source": [
    "def covert_teencode(data):\n",
    "    pattern = re.compile(r'(?<!\\w)(' + '|'.join(re.escape(key) for key in dictionary.keys()) + r')(?!\\w)')\n",
    "\n",
    "    # pattern = re.compile(r'\\b(' + '|'.join(re.escape(key) for key in dictionary.keys()) + r')\\b')\n",
    "    result = pattern.sub(lambda x: dictionary[x.group()], data)\n",
    "    return result"
   ]
  },
  {
   "cell_type": "code",
   "execution_count": 38,
   "id": "d7f0dbed",
   "metadata": {},
   "outputs": [],
   "source": [
    "uniChars = \"àáảãạâầấẩẫậăằắẳẵặèéẻẽẹêềếểễệđìíỉĩịòóỏõọôồốổỗộơờớởỡợùúủũụưừứửữựỳýỷỹỵÀÁẢÃẠÂẦẤẨẪẬĂẰẮẲẴẶÈÉẺẼẸÊỀẾỂỄỆĐÌÍỈĨỊÒÓỎÕỌÔỒỐỔỖỘƠỜỚỞỠỢÙÚỦŨỤƯỪỨỬỮỰỲÝỶỸỴÂĂĐÔƠƯ\"\n",
    "unsignChars = \"aaaaaaaaaaaaaaaaaeeeeeeeeeeediiiiiooooooooooooooooouuuuuuuuuuuyyyyyAAAAAAAAAAAAAAAAAEEEEEEEEEEEDIIIOOOOOOOOOOOOOOOOOOOUUUUUUUUUUUYYYYYAADOOU\"\n",
    " \n",
    "def loaddicchar():\n",
    "    dic = {}\n",
    "    char1252 = 'à|á|ả|ã|ạ|ầ|ấ|ẩ|ẫ|ậ|ằ|ắ|ẳ|ẵ|ặ|è|é|ẻ|ẽ|ẹ|ề|ế|ể|ễ|ệ|ì|í|ỉ|ĩ|ị|ò|ó|ỏ|õ|ọ|ồ|ố|ổ|ỗ|ộ|ờ|ớ|ở|ỡ|ợ|ù|ú|ủ|ũ|ụ|ừ|ứ|ử|ữ|ự|ỳ|ý|ỷ|ỹ|ỵ|À|Á|Ả|Ã|Ạ|Ầ|Ấ|Ẩ|Ẫ|Ậ|Ằ|Ắ|Ẳ|Ẵ|Ặ|È|É|Ẻ|Ẽ|Ẹ|Ề|Ế|Ể|Ễ|Ệ|Ì|Í|Ỉ|Ĩ|Ị|Ò|Ó|Ỏ|Õ|Ọ|Ồ|Ố|Ổ|Ỗ|Ộ|Ờ|Ớ|Ở|Ỡ|Ợ|Ù|Ú|Ủ|Ũ|Ụ|Ừ|Ứ|Ử|Ữ|Ự|Ỳ|Ý|Ỷ|Ỹ|Ỵ'.split(\n",
    "        '|')\n",
    "    charutf8 = \"à|á|ả|ã|ạ|ầ|ấ|ẩ|ẫ|ậ|ằ|ắ|ẳ|ẵ|ặ|è|é|ẻ|ẽ|ẹ|ề|ế|ể|ễ|ệ|ì|í|ỉ|ĩ|ị|ò|ó|ỏ|õ|ọ|ồ|ố|ổ|ỗ|ộ|ờ|ớ|ở|ỡ|ợ|ù|ú|ủ|ũ|ụ|ừ|ứ|ử|ữ|ự|ỳ|ý|ỷ|ỹ|ỵ|À|Á|Ả|Ã|Ạ|Ầ|Ấ|Ẩ|Ẫ|Ậ|Ằ|Ắ|Ẳ|Ẵ|Ặ|È|É|Ẻ|Ẽ|Ẹ|Ề|Ế|Ể|Ễ|Ệ|Ì|Í|Ỉ|Ĩ|Ị|Ò|Ó|Ỏ|Õ|Ọ|Ồ|Ố|Ổ|Ỗ|Ộ|Ờ|Ớ|Ở|Ỡ|Ợ|Ù|Ú|Ủ|Ũ|Ụ|Ừ|Ứ|Ử|Ữ|Ự|Ỳ|Ý|Ỷ|Ỹ|Ỵ\".split(\n",
    "        '|')\n",
    "    for i in range(len(char1252)):\n",
    "        dic[char1252[i]] = charutf8[i]\n",
    "    return dic\n",
    " \n",
    "dicchar = loaddicchar()\n",
    " \n",
    "def covert_unicode(data):\n",
    "    return re.sub(\n",
    "        r'à|á|ả|ã|ạ|ầ|ấ|ẩ|ẫ|ậ|ằ|ắ|ẳ|ẵ|ặ|è|é|ẻ|ẽ|ẹ|ề|ế|ể|ễ|ệ|ì|í|ỉ|ĩ|ị|ò|ó|ỏ|õ|ọ|ồ|ố|ổ|ỗ|ộ|ờ|ớ|ở|ỡ|ợ|ù|ú|ủ|ũ|ụ|ừ|ứ|ử|ữ|ự|ỳ|ý|ỷ|ỹ|ỵ|À|Á|Ả|Ã|Ạ|Ầ|Ấ|Ẩ|Ẫ|Ậ|Ằ|Ắ|Ẳ|Ẵ|Ặ|È|É|Ẻ|Ẽ|Ẹ|Ề|Ế|Ể|Ễ|Ệ|Ì|Í|Ỉ|Ĩ|Ị|Ò|Ó|Ỏ|Õ|Ọ|Ồ|Ố|Ổ|Ỗ|Ộ|Ờ|Ớ|Ở|Ỡ|Ợ|Ù|Ú|Ủ|Ũ|Ụ|Ừ|Ứ|Ử|Ữ|Ự|Ỳ|Ý|Ỷ|Ỹ|Ỵ',\n",
    "        lambda x: dicchar[x.group()], data)"
   ]
  },
  {
   "cell_type": "code",
   "execution_count": 39,
   "id": "8627f679",
   "metadata": {},
   "outputs": [],
   "source": [
    "def remove_duplicate(data):\n",
    "    data = data.split(\" \")\n",
    "    data = [\"\".join(dict.fromkeys(x)) for x in data]\n",
    "    return \" \".join(data)\n",
    "    "
   ]
  },
  {
   "cell_type": "code",
   "execution_count": 40,
   "id": "1b053119",
   "metadata": {},
   "outputs": [],
   "source": [
    "def remove_wrong_word(word):\n",
    "    if len(word)  == 1 or len(word) > 7 :\n",
    "        return \"\"\n",
    "    return word"
   ]
  },
  {
   "cell_type": "code",
   "execution_count": 41,
   "id": "5f9876a2",
   "metadata": {},
   "outputs": [],
   "source": [
    "def remove_stop_word(data):\n",
    "    text_file = open(\"./data/vietnamese-stopwords.txt\", \"r\",encoding = \"utf8\")\n",
    "    lines = text_file.readlines()\n",
    "    stop_words = [word.strip() for word in lines]\n",
    "    data1 = []\n",
    "    data = data.split(\" \")\n",
    "    for word in data:\n",
    "        if word not in stop_words:\n",
    "            data1.append(word)\n",
    "    return \" \".join(data1)"
   ]
  },
  {
   "cell_type": "code",
   "execution_count": 42,
   "id": "7f9baeda",
   "metadata": {},
   "outputs": [],
   "source": [
    "def no_accent_vietnamese(s):\n",
    "    s = re.sub(r'[àáạảãâầấậẩẫăằắặẳẵ]', 'a', s)\n",
    "    s = re.sub(r'[ÀÁẠẢÃĂẰẮẶẲẴÂẦẤẬẨẪ]', 'A', s)\n",
    "    s = re.sub(r'[èéẹẻẽêềếệểễ]', 'e', s)\n",
    "    s = re.sub(r'[ÈÉẸẺẼÊỀẾỆỂỄ]', 'E', s)\n",
    "    s = re.sub(r'[òóọỏõôồốộổỗơờớợởỡ]', 'o', s)\n",
    "    s = re.sub(r'[ÒÓỌỎÕÔỒỐỘỔỖƠỜỚỢỞỠ]', 'O', s)\n",
    "    s = re.sub(r'[ìíịỉĩ]', 'i', s)\n",
    "    s = re.sub(r'[ÌÍỊỈĨ]', 'I', s)\n",
    "    s = re.sub(r'[ùúụủũưừứựửữ]', 'u', s)\n",
    "    s = re.sub(r'[ƯỪỨỰỬỮÙÚỤỦŨ]', 'U', s)\n",
    "    s = re.sub(r'[ỳýỵỷỹ]', 'y', s)\n",
    "    s = re.sub(r'[ỲÝỴỶỸ]', 'Y', s)\n",
    "    s = re.sub(r'[Đ]', 'D', s)\n",
    "    s = re.sub(r'[đ]', 'd', s)\n",
    "    return s"
   ]
  },
  {
   "cell_type": "code",
   "execution_count": 43,
   "id": "973da05f",
   "metadata": {},
   "outputs": [],
   "source": [
    "def preprocessing(data):\n",
    "    punc_re = '[^\\w\\s'+uniChars+']'\n",
    "    data = re.sub(punc_re,' ', data)\n",
    "    data = data.lower()\n",
    "#     data = remove_duplicate(data)\n",
    "    data = l=re.sub(r\"\\n\",\" \",data)\n",
    "    data = covert_unicode(data)\n",
    "    data = covert_teencode(data)\n",
    "    data = remove_emojis(data)\n",
    "    data = remove_stop_word(data)\n",
    "    return data\n",
    "\n",
    "def preprocessing_stop_word(data):\n",
    "    punc_re = '[^\\w\\s'+uniChars+']'\n",
    "    data = re.sub(punc_re,' ', data)\n",
    "    data = data.lower()\n",
    "#     data = remove_duplicate(data)\n",
    "    data = l=re.sub(r\"\\n\",\" \",data)\n",
    "    data = covert_unicode(data)\n",
    "    data = covert_teencode(data)\n",
    "    data = remove_emojis(data)\n",
    "#     data = remove_stop_word(data)\n",
    "    return data"
   ]
  },
  {
   "cell_type": "code",
   "execution_count": 44,
   "id": "13d0db5c",
   "metadata": {},
   "outputs": [],
   "source": [
    "data_df = data_df.dropna()\n",
    "data_copy = data_df.copy()\n",
    "data_copy_rm_sw = data_df.copy()"
   ]
  },
  {
   "cell_type": "code",
   "execution_count": 47,
   "id": "f37baf4c",
   "metadata": {},
   "outputs": [
    {
     "name": "stderr",
     "output_type": "stream",
     "text": [
      "100%|██████████████████████████████████████████████████████████████████████████| 29880/29880 [00:09<00:00, 2992.31it/s]\n"
     ]
    }
   ],
   "source": [
    "\n",
    "data_copy[\"preprocessing\"] = data_copy.progress_apply(lambda x: preprocessing_stop_word(x['comment']), axis = 1)"
   ]
  },
  {
   "cell_type": "code",
   "execution_count": 48,
   "id": "71a2f832",
   "metadata": {},
   "outputs": [
    {
     "name": "stderr",
     "output_type": "stream",
     "text": [
      "100%|███████████████████████████████████████████████████████████████████████████| 29880/29880 [00:47<00:00, 632.78it/s]\n"
     ]
    }
   ],
   "source": [
    "data_copy_rm_sw[\"preprocessing\"] = data_copy_rm_sw.progress_apply(lambda x: preprocessing(x['comment']), axis = 1)"
   ]
  },
  {
   "cell_type": "code",
   "execution_count": 49,
   "id": "9e4bb4d6",
   "metadata": {},
   "outputs": [
    {
     "name": "stderr",
     "output_type": "stream",
     "text": [
      "100%|██████████████████████████████████████████████████████████████████████████| 29880/29880 [00:07<00:00, 3878.82it/s]\n",
      "100%|██████████████████████████████████████████████████████████████████████████| 29880/29880 [00:12<00:00, 2437.89it/s]\n"
     ]
    }
   ],
   "source": [
    "from pyvi.ViTokenizer import tokenize\n",
    "\n",
    "def token_text(x):\n",
    "    return tokenize(x).split(\" \")\n",
    "data_copy_rm_sw[\"token\"] = data_copy_rm_sw.progress_apply(lambda x: token_text(x['preprocessing']), axis = 1)\n",
    "\n",
    "data_copy[\"token\"] = data_copy.progress_apply(lambda x: token_text(x['preprocessing']), axis = 1)"
   ]
  },
  {
   "cell_type": "code",
   "execution_count": 50,
   "id": "da675909",
   "metadata": {},
   "outputs": [
    {
     "name": "stderr",
     "output_type": "stream",
     "text": [
      "100%|█████████████████████████████████████████████████████████████████████████| 29880/29880 [00:00<00:00, 76418.55it/s]\n",
      "100%|█████████████████████████████████████████████████████████████████████████| 29880/29880 [00:00<00:00, 84406.99it/s]\n"
     ]
    }
   ],
   "source": [
    "def remove_large_word(x):\n",
    "    arr = []\n",
    "    for i in x:\n",
    "        if len(i) < 20:\n",
    "            arr.append(i)\n",
    "    return arr\n",
    "data_copy[\"token\"] = data_copy.progress_apply(lambda x: remove_large_word(x['token']), axis = 1)\n",
    "data_copy_rm_sw[\"token\"] = data_copy_rm_sw.progress_apply(lambda x: remove_large_word(x['token']), axis = 1)"
   ]
  },
  {
   "cell_type": "code",
   "execution_count": 51,
   "id": "64f1c227",
   "metadata": {},
   "outputs": [],
   "source": [
    "data_copy = data_copy[data_copy[\"token\"].str.len()>0]\n",
    "data_copy_rm_sw = data_copy_rm_sw[data_copy_rm_sw[\"token\"].str.len()>0]\n"
   ]
  },
  {
   "cell_type": "code",
   "execution_count": 52,
   "id": "f303d869",
   "metadata": {},
   "outputs": [
    {
     "name": "stderr",
     "output_type": "stream",
     "text": [
      "C:\\Users\\Long\\anaconda3\\envs\\do_an\\lib\\site-packages\\ipykernel_launcher.py:1: SettingWithCopyWarning: \n",
      "A value is trying to be set on a copy of a slice from a DataFrame.\n",
      "Try using .loc[row_indexer,col_indexer] = value instead\n",
      "\n",
      "See the caveats in the documentation: https://pandas.pydata.org/pandas-docs/stable/user_guide/indexing.html#returning-a-view-versus-a-copy\n",
      "  \"\"\"Entry point for launching an IPython kernel.\n"
     ]
    }
   ],
   "source": [
    "data_copy['token'] = data_copy['token'].apply(lambda x: ' '.join(x))\n",
    "data_copy_rm_sw['token'] = data_copy_rm_sw['token'].apply(lambda x: ' '.join(x))"
   ]
  },
  {
   "cell_type": "code",
   "execution_count": 54,
   "id": "4fe54061",
   "metadata": {},
   "outputs": [
    {
     "data": {
      "text/html": [
       "<div>\n",
       "<style scoped>\n",
       "    .dataframe tbody tr th:only-of-type {\n",
       "        vertical-align: middle;\n",
       "    }\n",
       "\n",
       "    .dataframe tbody tr th {\n",
       "        vertical-align: top;\n",
       "    }\n",
       "\n",
       "    .dataframe thead th {\n",
       "        text-align: right;\n",
       "    }\n",
       "</style>\n",
       "<table border=\"1\" class=\"dataframe\">\n",
       "  <thead>\n",
       "    <tr style=\"text-align: right;\">\n",
       "      <th></th>\n",
       "      <th>Unnamed: 0</th>\n",
       "      <th>comment</th>\n",
       "      <th>Sentiment</th>\n",
       "      <th>label</th>\n",
       "      <th>preprocessing</th>\n",
       "      <th>token</th>\n",
       "    </tr>\n",
       "  </thead>\n",
       "  <tbody>\n",
       "    <tr>\n",
       "      <th>0</th>\n",
       "      <td>0</td>\n",
       "      <td>áo vải cũng được, nhưng hình in nó chóc nhiều ...</td>\n",
       "      <td>NEG</td>\n",
       "      <td>0</td>\n",
       "      <td>áo vải  hình in chóc  size lỗi mặc rộng</td>\n",
       "      <td>áo vải hình in chóc size lỗi mặc rộng</td>\n",
       "    </tr>\n",
       "    <tr>\n",
       "      <th>1</th>\n",
       "      <td>1</td>\n",
       "      <td>Vải thô cứng xấu không dám mua lần 2 luôn á tr...</td>\n",
       "      <td>NEG</td>\n",
       "      <td>0</td>\n",
       "      <td>vải thô cứng xấu dám mua 2 trời</td>\n",
       "      <td>vải thô cứng xấu dám mua 2 trời</td>\n",
       "    </tr>\n",
       "    <tr>\n",
       "      <th>2</th>\n",
       "      <td>2</td>\n",
       "      <td>Đánh giá này mang tính chất để nhận xu  fghjhh...</td>\n",
       "      <td>NEG</td>\n",
       "      <td>0</td>\n",
       "      <td>đánh giá chất xu  fghjhhhhhhhhhjjhhhbfccxxsssd...</td>\n",
       "      <td>đánh_giá chất xu</td>\n",
       "    </tr>\n",
       "    <tr>\n",
       "      <th>3</th>\n",
       "      <td>3</td>\n",
       "      <td>Size L to quá mng mua nên coi size kĩ \\nÁo mỏn...</td>\n",
       "      <td>NEG</td>\n",
       "      <td>0</td>\n",
       "      <td>size l to mua coi size kĩ  áo mỏng thất vọng  ...</td>\n",
       "      <td>size l to mua coi size kĩ áo mỏng thất_vọng bn...</td>\n",
       "    </tr>\n",
       "    <tr>\n",
       "      <th>4</th>\n",
       "      <td>4</td>\n",
       "      <td>Áo khá mỏng mũ 2 lớp nhưng cũng mỏng huhu:(( k...</td>\n",
       "      <td>NEG</td>\n",
       "      <td>0</td>\n",
       "      <td>áo mỏng mũ 2 lớp mỏng huhu    ưng lắm  hình in...</td>\n",
       "      <td>áo mỏng mũ 2 lớp mỏng huhu ưng lắm hình in đẹp...</td>\n",
       "    </tr>\n",
       "    <tr>\n",
       "      <th>...</th>\n",
       "      <td>...</td>\n",
       "      <td>...</td>\n",
       "      <td>...</td>\n",
       "      <td>...</td>\n",
       "      <td>...</td>\n",
       "      <td>...</td>\n",
       "    </tr>\n",
       "    <tr>\n",
       "      <th>29876</th>\n",
       "      <td>24939</td>\n",
       "      <td>Công dụng: lÀm mềm tóc\\nThơm , mượt tóc lắm, d...</td>\n",
       "      <td>POS</td>\n",
       "      <td>1</td>\n",
       "      <td>công dụng  mềm tóc thơm   mượt tóc lắm  dầu xả...</td>\n",
       "      <td>công_dụng mềm tóc thơm mượt tóc lắm dầu xả mượ...</td>\n",
       "    </tr>\n",
       "    <tr>\n",
       "      <th>29877</th>\n",
       "      <td>25242</td>\n",
       "      <td>Mua bộ 3 kem đánh răng được tặng túi xinh lắm\\...</td>\n",
       "      <td>POS</td>\n",
       "      <td>1</td>\n",
       "      <td>mua 3 kem đánh tặng túi xinh lắm túi tặng kèm ...</td>\n",
       "      <td>mua 3 kem đánh tặng túi xinh lắm túi tặng kèm ...</td>\n",
       "    </tr>\n",
       "    <tr>\n",
       "      <th>29878</th>\n",
       "      <td>25243</td>\n",
       "      <td>Thời gian giao hàng nhanh, đóng gói sản phẩm r...</td>\n",
       "      <td>POS</td>\n",
       "      <td>1</td>\n",
       "      <td>thời gian giao hàng  đóng gói sản phẩm chắn</td>\n",
       "      <td>thời_gian giao hàng đóng_gói sản_phẩm chắn</td>\n",
       "    </tr>\n",
       "    <tr>\n",
       "      <th>29879</th>\n",
       "      <td>25270</td>\n",
       "      <td>Chưa xịt nên chưa biết công dụng hy vọng có cô...</td>\n",
       "      <td>POS</td>\n",
       "      <td>1</td>\n",
       "      <td>xịt công dụng hy vọng công dụng mùa hè</td>\n",
       "      <td>xịt công_dụng hy_vọng công_dụng mùa hè</td>\n",
       "    </tr>\n",
       "    <tr>\n",
       "      <th>29880</th>\n",
       "      <td>25471</td>\n",
       "      <td>đúng sản phẩm giao hành nhanh sẽ ủng hộ shop s...</td>\n",
       "      <td>POS</td>\n",
       "      <td>1</td>\n",
       "      <td>sản phẩm giao hành ủng hộ shop săn deal dược giá</td>\n",
       "      <td>sản_phẩm giao hành ủng_hộ shop săn deal dược giá</td>\n",
       "    </tr>\n",
       "  </tbody>\n",
       "</table>\n",
       "<p>29771 rows × 6 columns</p>\n",
       "</div>"
      ],
      "text/plain": [
       "       Unnamed: 0                                            comment  \\\n",
       "0               0  áo vải cũng được, nhưng hình in nó chóc nhiều ...   \n",
       "1               1  Vải thô cứng xấu không dám mua lần 2 luôn á tr...   \n",
       "2               2  Đánh giá này mang tính chất để nhận xu  fghjhh...   \n",
       "3               3  Size L to quá mng mua nên coi size kĩ \\nÁo mỏn...   \n",
       "4               4  Áo khá mỏng mũ 2 lớp nhưng cũng mỏng huhu:(( k...   \n",
       "...           ...                                                ...   \n",
       "29876       24939  Công dụng: lÀm mềm tóc\\nThơm , mượt tóc lắm, d...   \n",
       "29877       25242  Mua bộ 3 kem đánh răng được tặng túi xinh lắm\\...   \n",
       "29878       25243  Thời gian giao hàng nhanh, đóng gói sản phẩm r...   \n",
       "29879       25270  Chưa xịt nên chưa biết công dụng hy vọng có cô...   \n",
       "29880       25471  đúng sản phẩm giao hành nhanh sẽ ủng hộ shop s...   \n",
       "\n",
       "      Sentiment label                                      preprocessing  \\\n",
       "0           NEG     0            áo vải  hình in chóc  size lỗi mặc rộng   \n",
       "1           NEG     0      vải thô cứng xấu dám mua 2 trời                 \n",
       "2           NEG     0  đánh giá chất xu  fghjhhhhhhhhhjjhhhbfccxxsssd...   \n",
       "3           NEG     0  size l to mua coi size kĩ  áo mỏng thất vọng  ...   \n",
       "4           NEG     0  áo mỏng mũ 2 lớp mỏng huhu    ưng lắm  hình in...   \n",
       "...         ...   ...                                                ...   \n",
       "29876       POS     1  công dụng  mềm tóc thơm   mượt tóc lắm  dầu xả...   \n",
       "29877       POS     1  mua 3 kem đánh tặng túi xinh lắm túi tặng kèm ...   \n",
       "29878       POS     1     thời gian giao hàng  đóng gói sản phẩm chắn      \n",
       "29879       POS     1             xịt công dụng hy vọng công dụng mùa hè   \n",
       "29880       POS     1   sản phẩm giao hành ủng hộ shop săn deal dược giá   \n",
       "\n",
       "                                                   token  \n",
       "0                  áo vải hình in chóc size lỗi mặc rộng  \n",
       "1                        vải thô cứng xấu dám mua 2 trời  \n",
       "2                                       đánh_giá chất xu  \n",
       "3      size l to mua coi size kĩ áo mỏng thất_vọng bn...  \n",
       "4      áo mỏng mũ 2 lớp mỏng huhu ưng lắm hình in đẹp...  \n",
       "...                                                  ...  \n",
       "29876  công_dụng mềm tóc thơm mượt tóc lắm dầu xả mượ...  \n",
       "29877  mua 3 kem đánh tặng túi xinh lắm túi tặng kèm ...  \n",
       "29878         thời_gian giao hàng đóng_gói sản_phẩm chắn  \n",
       "29879             xịt công_dụng hy_vọng công_dụng mùa hè  \n",
       "29880   sản_phẩm giao hành ủng_hộ shop săn deal dược giá  \n",
       "\n",
       "[29771 rows x 6 columns]"
      ]
     },
     "execution_count": 54,
     "metadata": {},
     "output_type": "execute_result"
    }
   ],
   "source": [
    "data_copy_rm_sw"
   ]
  },
  {
   "cell_type": "code",
   "execution_count": 51,
   "id": "2fc9cc69",
   "metadata": {},
   "outputs": [],
   "source": [
    "data_copy_rm_sw.to_csv(\"./data/data_no_sw.csv\")\n",
    "data_copy.to_csv(\"./data/data_have_sw.csv\")"
   ]
  },
  {
   "cell_type": "code",
   "execution_count": null,
   "id": "0c06bb4a",
   "metadata": {},
   "outputs": [],
   "source": [
    "|"
   ]
  }
 ],
 "metadata": {
  "kernelspec": {
   "display_name": "Python 3 (ipykernel)",
   "language": "python",
   "name": "python3"
  },
  "language_info": {
   "codemirror_mode": {
    "name": "ipython",
    "version": 3
   },
   "file_extension": ".py",
   "mimetype": "text/x-python",
   "name": "python",
   "nbconvert_exporter": "python",
   "pygments_lexer": "ipython3",
   "version": "3.7.13"
  }
 },
 "nbformat": 4,
 "nbformat_minor": 5
}
